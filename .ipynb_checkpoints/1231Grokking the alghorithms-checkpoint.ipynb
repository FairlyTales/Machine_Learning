{
 "cells": [
  {
   "cell_type": "markdown",
   "metadata": {},
   "source": [
    "#  1 Big \"O\" notation, binary search algorihtm\n",
    "\n",
    "О показывает насколько наш алгоритм быстро работает. \n",
    "\n",
    "#### Вот самые частые виды О, от самого быстрого к самому медленному:\n",
    "О(log(n)) - ex: binary search, O(n) - ex: simple search, O(n * log(n)) - ex: fast sort, O(n ** 2) - ex: slow sort, O(n!) - ex: traveling salesperson. \n",
    "\n",
    "## Binary search\n",
    "\n",
    "Идея в том, что мы каждый раз проверяем среднее значение списка на соответствие искомому значению. Если ср.знач. больше чем искомое, то мы отбрасываем все элементы больше него, включая его самого. Если ср.знач. меньше искомого, то отбрасываем все элементы меньше него, включая его самого.\n",
    "\n",
    "Важно: список должен быть УПОРЯДОЧЕННЫМ, иначе этот метод поиска работать не будет."
   ]
  },
  {
   "cell_type": "code",
   "execution_count": 1,
   "metadata": {},
   "outputs": [],
   "source": [
    "def binary_search(list, item):\n",
    "    \"\"\"Returns an index of the searched item in the list\"\"\"\n",
    "    \n",
    "    low = 0 # initiation of the low border of the list\n",
    "    high = len(list) - 1   # initiation of the high border of the list\n",
    "    \n",
    "    while low < high:   # run until there is only 1 element left in the list\n",
    "        mid = (low + high) // 2    # // - деление БЕЗ остатка, т.к. индексы списка могут быть только int\n",
    "        guess = list[mid]   # присваиваем guess ЗНАЧЕНИЕ среднего элемента списка\n",
    "        if guess > item:    # guess is too high\n",
    "            high = mid - 1\n",
    "        if guess < item:    # guess is too low\n",
    "            low = mid + 1\n",
    "        else: # if guess == item\n",
    "            return mid\n",
    "        \n",
    "    return None # in case we didn`t find the searched item in the list\n",
    "\n",
    "test_list = [1,3,5,7,9,11]\n",
    "test_item = 7\n",
    "\n",
    "binary_search(test_list, test_item)"
   ]
  },
  {
   "cell_type": "markdown",
   "metadata": {},
   "source": [
    "# 2 Selection sort algorithm, linked list vs array\n",
    "\n",
    "Linked list - ячейки памяти в каждой из которых хранится значение и адрес следующей ячейки, их легко расширять, но по ним неудобно искать элементы.\n",
    "\n",
    "Array - заранее определённый участок памяти под хранение элементов, в нём легко искать, но он занимает место даже когда пуст и нужно заранее знать сколько ячеек нам нужно.\n",
    "\n",
    "Selection sort algorithm consist of 2 \"functions\": find smallest/largest element & append it to the new array.\n",
    "\n",
    "Here is an example of this algorithm as 2 separate functions and as 1 function."
   ]
  },
  {
   "cell_type": "code",
   "execution_count": 2,
   "metadata": {},
   "outputs": [
    {
     "name": "stdout",
     "output_type": "stream",
     "text": [
      "[2, 4, 4, 4, 5, 5, 6, 45, 76, 76, 34528] \n",
      "\n",
      "[2, 4, 4, 4, 5, 5, 6, 45, 76, 76, 34528]\n"
     ]
    }
   ],
   "source": [
    "# task separated between 2 functions\n",
    "def find_smallest(array):\n",
    "    \"\"\"Finds the smallest element of the array\"\"\"\n",
    "    \n",
    "    smallest = array[0]\n",
    "    smallest_index = 0\n",
    "    \n",
    "    for i in range(1, len(array)):\n",
    "        if array[i] < smallest:\n",
    "            smallest = array[i]\n",
    "            smallest_index = i\n",
    "            \n",
    "    return smallest_index\n",
    "\n",
    "\n",
    "def sort(array):\n",
    "    \"\"\"Sorting function\"\"\"\n",
    "    new_array = []\n",
    "    \n",
    "    for i in range(len(array)):\n",
    "        smallest = find_smallest(array)\n",
    "        new_array.append(array.pop(smallest))\n",
    "        \n",
    "    return new_array\n",
    "\n",
    "print(sort([2,4,5,76,5,4,6,76,4,45,34528]), '\\n')\n",
    "\n",
    "\n",
    "# all in 1 function\n",
    "def selection_sort_low_to_high(array):\n",
    "    \"\"\"Sorts the array from low to high\"\"\"\n",
    "          \n",
    "    new_array = []    \n",
    "    \n",
    "    for i in range(len(array)):\n",
    "        smallest = array[0]\n",
    "        smallest_index = 0\n",
    "        for j in range(1, len(array)):\n",
    "            if array[j] < smallest:\n",
    "                smallest = array[j]\n",
    "                smallest_index = j\n",
    "        new_array.append(array.pop(smallest_index))\n",
    "            \n",
    "    return new_array\n",
    "            \n",
    "print(selection_sort_low_to_high([2,4,5,76,5,4,6,76,4,45,34528]))"
   ]
  },
  {
   "cell_type": "markdown",
   "metadata": {},
   "source": [
    "# 3 Recursion\n",
    "\n",
    "Recursion - function that calls itself.\n",
    "\n",
    "All function calls go onto the call stack.\n",
    "\n",
    "If the stack gets way too large we can run out of RAM."
   ]
  },
  {
   "cell_type": "code",
   "execution_count": 3,
   "metadata": {},
   "outputs": [
    {
     "name": "stdout",
     "output_type": "stream",
     "text": [
      "2\n",
      "1\n",
      "0\n"
     ]
    }
   ],
   "source": [
    "def recursion(i):\n",
    "    \"\"\"Пример рекурсионной функции\"\"\"\n",
    "    print(i)    \n",
    "    if i <= 0:\n",
    "        return # \"break the loop\" condition\n",
    "    else:\n",
    "        recursion(i-1) # function calls itself\n",
    "        \n",
    "recursion(2)"
   ]
  },
  {
   "cell_type": "markdown",
   "metadata": {},
   "source": [
    "Важный момент: когда мы открываем функцию в функции (во время рекурсии) функция которая вызвала функцию остаётся в состоянии \"паузы\" до завершения вызванной функции. Т.е. получается такая цепочка функций каждая из которых ждёт пока закончится вызванная ей функция.\n",
    "\n",
    "И когда эта последняя из вызванных функций завершается и возвращает значение то функция вызвавшая её продолжает своё выполнение (что-то делает и затем тоже возвращает значение). И эта цепочка функций начинает \"уменьшаться\", пока последняя функция (которая начала рекурсию) не вернёт значение и её вызов не будет завершён.\n",
    "\n",
    "Это означает что КАЖДАЯ из этих функций будет находиться в памяти пока идёт рекурсия.Что может быть ОЧЕНЬ затратно по ресурсам системы. Поэтому с рекурсиями нужно быть осторожным."
   ]
  },
  {
   "cell_type": "code",
   "execution_count": 4,
   "metadata": {},
   "outputs": [
    {
     "data": {
      "text/plain": [
       "6"
      ]
     },
     "execution_count": 4,
     "metadata": {},
     "output_type": "execute_result"
    }
   ],
   "source": [
    "def factorial(x):\n",
    "    \"\"\"Функция рассчёта факториала\"\"\"\n",
    "    if x == 1:\n",
    "        return x\n",
    "    else:\n",
    "        return (x * factorial(x-1)) # recursive\n",
    "    \n",
    "factorial(3)"
   ]
  },
  {
   "cell_type": "markdown",
   "metadata": {},
   "source": [
    "# 4 Quicksort algorithm, divide-and-counquer principle\n",
    "\n",
    "Divide-and-counquer principle:\n",
    "\n",
    "   1. figure out a simple case of the problem (найти решение более простой версии задачи)\n",
    "\n",
    "   2. figure out how to reduce the problem and get it to the simple case (придумать как уменьшить/сократить задачу так, чтобы оставить от неё только простую версию, которую мы уже решили).\n",
    "\n",
    "#### Quicksort algorithm\n",
    "\n",
    "Идея алгоритма быстрой сортировки в том, что мы выбираем какой-то элемент массива и переносим все остальные элементы либо влево/вправо если они меньше выбранного либо вправо/влево если они больше выбранного. Затем в каждом из этих подмассивов делаем то же самое - выбираем один элемент и распределяем остальные элементы подмассива по его сторонам в зависимости от того больше они или меньше чем выбранный.\n",
    "\n",
    "В результате мы приходим к тому, что в наших подмассивах остаётся меньше двух элементов. А массивы с числом элементов 0 и/или 1 уже отсортированны (ну, или их уже НЕ надо сортировать).\n",
    "\n",
    "Выбор элемента вокруг которого будет проводится перераспределение массива очень сильно влияет на скорость работы алгоритма.\n",
    "\n",
    "Вот так выглядит один из вариантов этого алгоритма в коде:"
   ]
  },
  {
   "cell_type": "code",
   "execution_count": 5,
   "metadata": {},
   "outputs": [
    {
     "data": {
      "text/plain": [
       "[1, 2, 3, 4, 5, 6, 7, 8, 9, 10]"
      ]
     },
     "execution_count": 5,
     "metadata": {},
     "output_type": "execute_result"
    }
   ],
   "source": [
    "import numpy as np\n",
    "def quicksort(array):\n",
    "    \n",
    "    if len(array) < 2: # если массив меньше двух (равен 0 или 1) то сортировка окончена\n",
    "        return array\n",
    "    else:\n",
    "        # выберем в качестве элемента вокруг которого будет проводится сортировка (pivot)\n",
    "        # первый элемент массива (и в дальнейшем, подмассива)\n",
    "        pivot = array[0]\n",
    "        \n",
    "        # используем генераторы для создания двух подмассивов\n",
    "        smaller = [i\n",
    "                   for i in array[0:]\n",
    "                   if i < pivot]\n",
    "        bigger = [i\n",
    "                  for i in array[0:]\n",
    "                  if i > pivot]\n",
    "        \n",
    "        return (quicksort(smaller) + [pivot] + quicksort(bigger))\n",
    "    \n",
    "a = quicksort([10,9,8,7,6,5,4,3,2,1])\n",
    "a"
   ]
  },
  {
   "cell_type": "code",
   "execution_count": null,
   "metadata": {},
   "outputs": [],
   "source": []
  },
  {
   "cell_type": "code",
   "execution_count": null,
   "metadata": {},
   "outputs": [],
   "source": []
  },
  {
   "cell_type": "markdown",
   "metadata": {},
   "source": [
    "# 5 - hash tables (dictionaries in python)\n",
    "\n",
    "# 6 - Graphs, Breadth-first search algorithm (finds the path through graph with the fewest number of segments)"
   ]
  },
  {
   "cell_type": "code",
   "execution_count": null,
   "metadata": {},
   "outputs": [],
   "source": []
  },
  {
   "cell_type": "markdown",
   "metadata": {},
   "source": [
    "# 7. Dijkstra algorithm (finds the fastest path through graph)\n",
    "\n",
    "Breadth search finds the $shortest$ path through graph, while Dijkstra's algorithm finds the $fastest$ (because if we add weights to the edges we will get thatshortest is not necessary the fastest). Beware that Dijkstra's algoritm works only with directed graphs (graphs without cycles and/or undirected edges) and if graph has only possitive weights. For graphs with negative weights Bellman-Ford algorithm should be used.\n",
    "\n",
    "It consists of 4 steps:\n",
    "\n",
    "1. Find the edge with lowest edge weight (node with the cheapest path to it).\n",
    "\n",
    "2. Update the costs of the neighbors of the node on the end of this edge.\n",
    "\n",
    "3. Repeat until it`s done for every node in the graph (starting from the start again).\n",
    "\n",
    "4. Calculate final path.\n",
    "\n",
    "# 8. Greedy algorithms\n",
    "\n",
    "\n",
    "\n"
   ]
  },
  {
   "cell_type": "code",
   "execution_count": null,
   "metadata": {},
   "outputs": [],
   "source": []
  },
  {
   "cell_type": "code",
   "execution_count": null,
   "metadata": {},
   "outputs": [],
   "source": []
  },
  {
   "cell_type": "code",
   "execution_count": null,
   "metadata": {},
   "outputs": [],
   "source": []
  },
  {
   "cell_type": "code",
   "execution_count": null,
   "metadata": {},
   "outputs": [],
   "source": []
  },
  {
   "cell_type": "code",
   "execution_count": null,
   "metadata": {},
   "outputs": [],
   "source": []
  },
  {
   "cell_type": "code",
   "execution_count": null,
   "metadata": {},
   "outputs": [],
   "source": []
  },
  {
   "cell_type": "code",
   "execution_count": null,
   "metadata": {},
   "outputs": [],
   "source": []
  }
 ],
 "metadata": {
  "kernelspec": {
   "display_name": "Python 3",
   "language": "python",
   "name": "python3"
  },
  "language_info": {
   "codemirror_mode": {
    "name": "ipython",
    "version": 3
   },
   "file_extension": ".py",
   "mimetype": "text/x-python",
   "name": "python",
   "nbconvert_exporter": "python",
   "pygments_lexer": "ipython3",
   "version": "3.7.4"
  }
 },
 "nbformat": 4,
 "nbformat_minor": 2
}
