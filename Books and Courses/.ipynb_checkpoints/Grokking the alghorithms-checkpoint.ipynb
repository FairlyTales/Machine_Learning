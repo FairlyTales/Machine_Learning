{
 "cells": [
  {
   "cell_type": "markdown",
   "metadata": {},
   "source": [
    "# 0. Big \"O\" notation, binary search algorihtm\n",
    "\n",
    "О показывает насколько наш алгоритм быстро работает. \n",
    "\n",
    "#### Вот самые частые \"типы скоростей\" алгоритмов, от самого быстрого к самому медленному:\n",
    "О(log(n)) - ex: binary search, O(n) - ex: simple search, O(n * log(n)) - ex: fast sort, O(n ** 2) - ex: slow sort, O(n!) - ex: traveling salesperson. \n",
    "\n",
    "# 1. Binary search\n",
    "\n",
    "Идея в том, что мы каждый раз проверяем среднее значение списка на соответствие искомому значению. Если ср.знач. больше чем искомое, то мы отбрасываем все элементы больше него, включая его самого. Если ср.знач. меньше искомого, то отбрасываем все элементы меньше него, включая его самого.\n",
    "\n",
    "Важно: список должен быть упорядоченным (сортированным), иначе этот метод поиска работать не будет."
   ]
  },
  {
   "cell_type": "code",
   "execution_count": 1,
   "metadata": {},
   "outputs": [
    {
     "data": {
      "text/plain": [
       "4"
      ]
     },
     "execution_count": 1,
     "metadata": {},
     "output_type": "execute_result"
    }
   ],
   "source": [
    "def binary_search(list, item):\n",
    "    \"\"\"Returns an index of the searched item in the list\"\"\"\n",
    "    \n",
    "    low = 0 # initiation of the low border of the list\n",
    "    high = len(list) - 1   # initiation of the high border of the list\n",
    "    \n",
    "    while low < high:   # run until there is only 1 element left in the list\n",
    "        mid = (low + high) // 2    # // - деление БЕЗ остатка, т.к. индексы списка могут быть только int\n",
    "        guess = list[mid]   # присваиваем guess ЗНАЧЕНИЕ среднего элемента списка\n",
    "        if guess > item:    # guess is too high\n",
    "            high = mid - 1\n",
    "        if guess < item:    # guess is too low\n",
    "            low = mid + 1\n",
    "        else: # if guess == item\n",
    "            return mid\n",
    "        \n",
    "    return None # in case we didn`t find the searched item in the list\n",
    "\n",
    "test_list = [1,3,5,7,9,11]\n",
    "test_item = 7\n",
    "\n",
    "binary_search(test_list, test_item)"
   ]
  },
  {
   "cell_type": "markdown",
   "metadata": {},
   "source": [
    "# 2. Selection sort algorithm, linked list vs array\n",
    "\n",
    "Linked list - ячейки памяти в каждой из которых хранится значение и адрес следующей ячейки, их легко расширять, но по ним неудобно искать элементы.\n",
    "\n",
    "Array - заранее определённый участок памяти под хранение элементов, в нём легко искать, но он занимает место даже когда пуст и нам нужно заранее знать сколько ячеек памяти под него отводить.\n",
    "\n",
    "Selection sort algorithm consist of 2 \"functions\": find smallest/largest element & append it to the new array.\n",
    "\n",
    "Here is an example of this algorithm as 2 separate functions and as 1 function."
   ]
  },
  {
   "cell_type": "code",
   "execution_count": 2,
   "metadata": {},
   "outputs": [
    {
     "name": "stdout",
     "output_type": "stream",
     "text": [
      "[2, 4, 4, 4, 5, 5, 6, 45, 76, 76, 34528] \n",
      "\n",
      "[2, 4, 4, 4, 5, 5, 6, 45, 76, 76, 34528]\n"
     ]
    }
   ],
   "source": [
    "# textbook. algorithm separated between 2 functions\n",
    "def find_smallest(array):\n",
    "    \"\"\"Finds the smallest element of the array\"\"\"\n",
    "    \n",
    "    smallest = array[0]\n",
    "    smallest_index = 0\n",
    "    \n",
    "    for i in range(1, len(array)):\n",
    "        if array[i] < smallest:\n",
    "            smallest = array[i]\n",
    "            smallest_index = i\n",
    "            \n",
    "    return smallest_index\n",
    "\n",
    "\n",
    "def sort(array):\n",
    "    \"\"\"Sorting function.\"\"\"\n",
    "    new_array = []\n",
    "    \n",
    "    for i in range(len(array)):\n",
    "        smallest = find_smallest(array)\n",
    "        new_array.append(array.pop(smallest))\n",
    "        \n",
    "    return new_array\n",
    "\n",
    "print(sort([2,4,5,76,5,4,6,76,4,45,34528]), '\\n')\n",
    "\n",
    "\n",
    "# my realization in single function\n",
    "def selection_sort_low_to_high(array):\n",
    "    \"\"\"Sorts the array from low to high\"\"\"\n",
    "          \n",
    "    new_array = []    \n",
    "    \n",
    "    for i in range(len(array)):\n",
    "        smallest = array[0]\n",
    "        smallest_index = 0\n",
    "        for j in range(1, len(array)):\n",
    "            if array[j] < smallest:\n",
    "                smallest = array[j]\n",
    "                smallest_index = j\n",
    "        new_array.append(array.pop(smallest_index))\n",
    "            \n",
    "    return new_array\n",
    "            \n",
    "print(selection_sort_low_to_high([2,4,5,76,5,4,6,76,4,45,34528]))"
   ]
  },
  {
   "cell_type": "markdown",
   "metadata": {},
   "source": [
    "# 3. Recursion\n",
    "\n",
    "Recursion - function that calls itself.\n",
    "\n",
    "All function calls go to the call stack.\n",
    "\n",
    "Beware, if the stack gets way too large we can run out of RAM."
   ]
  },
  {
   "cell_type": "code",
   "execution_count": 3,
   "metadata": {},
   "outputs": [
    {
     "name": "stdout",
     "output_type": "stream",
     "text": [
      "2\n",
      "1\n",
      "0\n"
     ]
    }
   ],
   "source": [
    "def recursion(i):\n",
    "    \"\"\"Пример рекурсионной функции\"\"\"\n",
    "    print(i)    \n",
    "    if i <= 0:\n",
    "        return # break the loop condition\n",
    "    else:\n",
    "        recursion(i-1) # function calls itself\n",
    "        \n",
    "recursion(2)"
   ]
  },
  {
   "cell_type": "markdown",
   "metadata": {},
   "source": [
    "Важный момент: когда мы открываем функцию в функции (во время рекурсии), функция которая вызвала функцию остаётся в состоянии \"паузы\" до завершения вызванной функции. Т.е. получается такая цепочка функций каждая из которых ждёт пока закончится вызванная ей функция.\n",
    "\n",
    "И когда эта последняя из вызванных функций завершается и возвращает значение то функция вызвавшая её продолжает своё выполнение (что-то делает и затем тоже возвращает значение). И эта цепочка функций начинает \"уменьшаться\", пока последняя функция (которая начала рекурсию) не вернёт значение и её вызов не будет завершён.\n",
    "\n",
    "Это означает что КАЖДАЯ из этих функций будет находиться в памяти пока идёт рекурсия, что может быть ОЧЕНЬ затратно по памяти. Поэтому с рекурсиями нужно быть осторожным."
   ]
  },
  {
   "cell_type": "code",
   "execution_count": 1,
   "metadata": {},
   "outputs": [
    {
     "data": {
      "text/plain": [
       "6"
      ]
     },
     "execution_count": 1,
     "metadata": {},
     "output_type": "execute_result"
    }
   ],
   "source": [
    "def factorial(x):\n",
    "    \"\"\"Функция рассчёта факториала использующая рекурсию\"\"\"\n",
    "    if x == 1:\n",
    "        return x\n",
    "    else:\n",
    "        return (x * factorial(x-1)) # recursive\n",
    "    \n",
    "factorial(3)"
   ]
  },
  {
   "cell_type": "markdown",
   "metadata": {},
   "source": [
    "# 4. Quicksort algorithm, divide-and-counquer principle\n",
    "\n",
    "Divide-and-counquer principle:\n",
    "\n",
    "1. figure out a simple case of the problem (найти решение более простой версии задачи)\n",
    "\n",
    "2. figure out how to reduce the problem and get it to the simple case (придумать как уменьшить/сократить задачу так, чтобы оставить от неё только простую версию, которую мы уже решили).\n",
    "\n",
    "## Quicksort algorithm\n",
    "\n",
    "Идея алгоритма быстрой сортировки в том, что мы выбираем какой-то элемент массива и переносим все остальные элементы либо влево/вправо если они меньше выбранного либо вправо/влево если они больше выбранного. Затем в каждом из этих подмассивов делаем то же самое - выбираем один элемент и распределяем остальные элементы подмассива по его сторонам в зависимости от того больше они или меньше чем выбранный.\n",
    "\n",
    "В результате мы приходим к тому, что в наших подмассивах остаётся меньше двух элементов. А массивы с числом элементов 0 и/или 1 уже отсортированны (ну, или их уже НЕ надо сортировать).\n",
    "\n",
    "Выбор элемента вокруг которого будет проводится перераспределение массива очень сильно влияет на скорость работы алгоритма.\n",
    "\n",
    "Вот так выглядит один из вариантов этого алгоритма в коде:"
   ]
  },
  {
   "cell_type": "code",
   "execution_count": 2,
   "metadata": {
    "scrolled": false
   },
   "outputs": [
    {
     "data": {
      "text/plain": [
       "[1, 2, 3, 4, 5, 6, 7, 8, 9, 10]"
      ]
     },
     "execution_count": 2,
     "metadata": {},
     "output_type": "execute_result"
    }
   ],
   "source": [
    "import numpy as np\n",
    "\n",
    "def quicksort(array):\n",
    "    \n",
    "    if len(array) < 2: # если массив меньше двух (равен 0 или 1) то сортировка окончена\n",
    "        return array\n",
    "    else:\n",
    "        # выберем в качестве элемента вокруг которого будет проводится сортировка (pivot)\n",
    "        # первый элемент массива (и в дальнейшем, подмассива)\n",
    "        pivot = array[0]\n",
    "        \n",
    "        # используем генераторы для создания двух подмассивов\n",
    "        smaller = [i\n",
    "                   for i in array[0:]\n",
    "                   if i < pivot]\n",
    "        bigger = [i\n",
    "                  for i in array[0:]\n",
    "                  if i > pivot]\n",
    "        \n",
    "        # обрати внимание на то что здесь рекурсия\n",
    "        return (quicksort(smaller) + [pivot] + quicksort(bigger))\n",
    "    \n",
    "a = quicksort([10,9,8,7,6,5,4,3,2,1])\n",
    "a"
   ]
  },
  {
   "cell_type": "markdown",
   "metadata": {},
   "source": [
    "# 5 Hash tables (dictionaries in python)\n",
    "\n",
    "Hash function is any function that can be used to map data of arbitrary size to fixed-size values. The values returned by a hash function are called hash values, hash codes, digests, or simply hashes. The values are used to index a fixed-size table called a hash table. Use of a hash function to index a hash table is called hashing or scatter storage addressing. \n",
    "\n",
    "Особо писать про них нечего, вспомни что знаешь о словарях в питоне и всё.\n",
    "\n",
    "# 6 Graphs, Breadth-first search algorithm, topological sort\n",
    "\n",
    "Tree(Дерево) - is a type of graph which don`t have any edges pointing backwards.\n",
    "\n",
    "Breadth-first search algorithm - is an algorithm for traversing or searching tree or graph data structures. It starts at the tree root (or some arbitrary node of a graph), and explores all of the neighbor nodes at the present depth prior to moving on to the nodes at the next depth level.\n",
    "\n",
    "This algorithm answer 2 questions: Is there a path from node A to node B? What is the shortest path from node A to node B?\n",
    "\n",
    "#### Пример этого алгоритма в псевдокоде:\n",
    "\n",
    "Set all nodes to \"not visited\";\n",
    "\n",
    "   q = new Queue();\n",
    "\n",
    "   q.enqueue(initial node);\n",
    "\n",
    "   while ( q ≠ empty ) do\n",
    "   {\n",
    "      x = q.dequeue();\n",
    "\n",
    "      if ( x has not been visited )\n",
    "      {\n",
    "         visited[x] = true;         // Visit node x !\n",
    "\n",
    "         for ( every edge (x, y))   // we are using all edges !\n",
    "            if ( y has not been visited )   \n",
    "               q.enqueue(y);        // Use the edge (x,y) !!!\n",
    "      }\n",
    "   }\n",
    "   \n",
    "   "
   ]
  },
  {
   "cell_type": "code",
   "execution_count": 84,
   "metadata": {},
   "outputs": [
    {
     "name": "stdout",
     "output_type": "stream",
     "text": [
      "Checking:  Alice\n",
      "Checking:  Bob\n",
      "Checking:  Claire\n",
      "Checking:  Alex\n",
      "Checking:  Peggy\n",
      "Checking:  Alice\n",
      "Checking:  Alex\n",
      "Checking:  Tom\n",
      "\n",
      " Tom successfully found\n"
     ]
    },
    {
     "data": {
      "text/plain": [
       "'Tom'"
      ]
     },
     "execution_count": 84,
     "metadata": {},
     "output_type": "execute_result"
    }
   ],
   "source": [
    "# directed graph created with a hash table (dictionaty in python)\n",
    "graph = {}\n",
    "graph['me'] = ['Alice', 'Bob', 'Claire']\n",
    "graph['Bob'] = ['Alice', 'Alex']\n",
    "graph['Alice'] = ['Alex', 'Peggy']\n",
    "graph['Claire'] = ['Tom', 'John']\n",
    "graph['Alex'] = []\n",
    "graph['Peggy'] = []\n",
    "graph['Tom'] = []\n",
    "graph['John'] = []\n",
    "\n",
    "# specify who we want to find (which node is the target node) and the starting node\n",
    "first_node = 'me'\n",
    "target = 'Tom'\n",
    "\n",
    "# lib. for creating the queues\n",
    "from collections import deque\n",
    "\n",
    "def breadth_first_search(graph, first_node, target):\n",
    "    queue = deque()\n",
    "    queue += graph[first_node]\n",
    "    searched = []\n",
    "    while queue:\n",
    "        person = queue.popleft()\n",
    "        print('Checking: ', person)\n",
    "        if not person in searched:\n",
    "            if person == target:\n",
    "                print('\\n', target, 'successfully found')\n",
    "                return person\n",
    "            else:\n",
    "                queue += graph[person]\n",
    "                searched.append(person)\n",
    "    print('\\n', target, 'not found.')\n",
    "    return False\n",
    "\n",
    "breadth_first_search(graph, first_node, target)"
   ]
  },
  {
   "cell_type": "markdown",
   "metadata": {},
   "source": [
    "\n",
    "# 7. Dijkstra algorithm (finds the fastest path through graph)\n",
    "\n",
    "Breadth search finds the $shortest$ path through graph, while Dijkstra's algorithm finds the $fastest$ (because if we add weights to the edges we will get thatshortest is not necessary the fastest). Beware that Dijkstra's algoritm works only with directed graphs (graphs without cycles and/or undirected edges) and if graph has only possitive weights. For graphs with negative weights Bellman-Ford algorithm should be used.\n",
    "\n",
    "It consists of 4 steps:\n",
    "\n",
    "1. Find the edge with lowest edge weight (node with the cheapest path to it).\n",
    "\n",
    "2. Update the costs of the neighbors of the node on the end of this edge.\n",
    "\n",
    "3. Repeat until it`s done for every node in the graph (starting from the start again).\n",
    "\n",
    "4. Calculate final path.\n",
    "\n",
    "\n",
    "\n",
    "\n",
    "\n"
   ]
  },
  {
   "cell_type": "code",
   "execution_count": null,
   "metadata": {},
   "outputs": [],
   "source": []
  },
  {
   "cell_type": "code",
   "execution_count": null,
   "metadata": {},
   "outputs": [],
   "source": [
    "# 8. Greedy algorithms"
   ]
  },
  {
   "cell_type": "code",
   "execution_count": null,
   "metadata": {},
   "outputs": [],
   "source": []
  },
  {
   "cell_type": "code",
   "execution_count": null,
   "metadata": {},
   "outputs": [],
   "source": []
  },
  {
   "cell_type": "code",
   "execution_count": null,
   "metadata": {},
   "outputs": [],
   "source": []
  },
  {
   "cell_type": "code",
   "execution_count": null,
   "metadata": {},
   "outputs": [],
   "source": []
  },
  {
   "cell_type": "code",
   "execution_count": null,
   "metadata": {},
   "outputs": [],
   "source": []
  },
  {
   "cell_type": "code",
   "execution_count": null,
   "metadata": {},
   "outputs": [],
   "source": []
  },
  {
   "cell_type": "code",
   "execution_count": null,
   "metadata": {},
   "outputs": [],
   "source": []
  },
  {
   "cell_type": "code",
   "execution_count": null,
   "metadata": {},
   "outputs": [],
   "source": []
  }
 ],
 "metadata": {
  "kernelspec": {
   "display_name": "Python 3",
   "language": "python",
   "name": "python3"
  },
  "language_info": {
   "codemirror_mode": {
    "name": "ipython",
    "version": 3
   },
   "file_extension": ".py",
   "mimetype": "text/x-python",
   "name": "python",
   "nbconvert_exporter": "python",
   "pygments_lexer": "ipython3",
   "version": "3.7.5"
  },
  "toc": {
   "base_numbering": 1,
   "nav_menu": {},
   "number_sections": true,
   "sideBar": true,
   "skip_h1_title": false,
   "title_cell": "Table of Contents",
   "title_sidebar": "Contents",
   "toc_cell": false,
   "toc_position": {},
   "toc_section_display": true,
   "toc_window_display": false
  }
 },
 "nbformat": 4,
 "nbformat_minor": 2
}
