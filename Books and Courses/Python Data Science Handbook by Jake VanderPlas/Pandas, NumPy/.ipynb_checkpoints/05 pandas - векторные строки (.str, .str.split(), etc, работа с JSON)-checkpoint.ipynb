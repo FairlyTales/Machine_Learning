{
 "cells": [
  {
   "cell_type": "code",
   "execution_count": 1,
   "metadata": {},
   "outputs": [],
   "source": [
    "import numpy as np\n",
    "import pandas as pd"
   ]
  },
  {
   "cell_type": "code",
   "execution_count": 2,
   "metadata": {},
   "outputs": [
    {
     "data": {
      "text/plain": [
       "0    Peter\n",
       "1     Paul\n",
       "2     None\n",
       "3     Mary\n",
       "4    Guido\n",
       "dtype: object"
      ]
     },
     "execution_count": 2,
     "metadata": {},
     "output_type": "execute_result"
    }
   ],
   "source": [
    "data = ['peter', 'Paul', None, 'MARY', 'gUIDO']\n",
    "# для работы с \"массивами\" строк numpy не оч подходит (список с верху\n",
    "# он не может обрабатывать векторизацией из-за наличия None, и т.д.)\n",
    "# а вот pandas предоставляет аттрибут .str который значительно все упрощает\n",
    "\n",
    "names = pd.Series(data)\n",
    "names.str.capitalize() # первая буква каждого слова заглавная, остальные малые"
   ]
  },
  {
   "cell_type": "markdown",
   "metadata": {},
   "source": [
    "# полный список всех методов .str\n",
    "len()\tlower()\ttranslate()\tislower()\n",
    "ljust()\tupper()\tstartswith()\tisupper()\n",
    "rjust()\tfind()\tendswith()\tisnumeric()\n",
    "center()\trfind()\tisalnum()\tisdecimal()\n",
    "zfill()\tindex()\tisalpha()\tsplit()\n",
    "strip()\trindex()\tisdigit()\trsplit()\n",
    "rstrip()\tcapitalize()\tisspace()\tpartition()\n",
    "lstrip()\tswapcase()\tistitle()\trpartition()"
   ]
  },
  {
   "cell_type": "code",
   "execution_count": 3,
   "metadata": {},
   "outputs": [
    {
     "data": {
      "text/plain": [
       "'Chapman'"
      ]
     },
     "execution_count": 3,
     "metadata": {},
     "output_type": "execute_result"
    }
   ],
   "source": [
    "monte = pd.Series(['Graham Chapman', 'John Cleese', 'Terry Gilliam',\n",
    "                   'Eric Idle', 'Terry Jones', 'Michael Palin'])\n",
    "monte.str.lower()\n",
    "monte.str.len()\n",
    "monte.str.startswith('T')\n",
    "# они могут возвращать как список строк, так и числа, и булевы значения\n",
    "\n",
    "a = monte.str.split()\n",
    "a[0][1]"
   ]
  },
  {
   "cell_type": "markdown",
   "metadata": {},
   "source": [
    "# методы поддерживающие regular expression\n",
    "Method\tDescription\n",
    "match()\t   Call re.match() on each element, returning a boolean.\n",
    "extract()  Call re.match() on each element, returning matched groups as strings\n",
    "findall()\tCall re.findall() on each element\n",
    "replace()\tReplace occurrences of pattern with some other string\n",
    "contains()\tCall re.search() on each element, returning a boolean\n",
    "count()\t    Count occurrences of pattern\n",
    "split()  \tEquivalent to str.split(), but accepts regexps\n",
    "rsplit()\tEquivalent to str.rsplit(), but accepts regexps"
   ]
  },
  {
   "cell_type": "code",
   "execution_count": 4,
   "metadata": {},
   "outputs": [
    {
     "data": {
      "text/plain": [
       "0    [Graham Chapman]\n",
       "1                  []\n",
       "2     [Terry Gilliam]\n",
       "3                  []\n",
       "4       [Terry Jones]\n",
       "5     [Michael Palin]\n",
       "dtype: object"
      ]
     },
     "execution_count": 4,
     "metadata": {},
     "output_type": "execute_result"
    }
   ],
   "source": [
    "monte.str.extract('([A-Za-z]+)', expand=False)\n",
    "# извлекаем первое имя задавая извлечение по непрерывному (без пробелов и т.д.)\n",
    "# набору символов (все буквы латиницы)\n",
    "\n",
    "monte.str.findall(r'^[^AEIOU].*[^aeiou]$')\n",
    "# поиск имен начинающихся и заканчивающихся на согласную\n",
    "# ^ - символ начала стоки, & - символ окончания строки"
   ]
  },
  {
   "cell_type": "markdown",
   "metadata": {},
   "source": [
    "# некотрые удобные методы\n",
    "get()\t        Index each element\n",
    "slice()\t        Slice each element\n",
    "slice_replace()\tReplace slice in each element with passed value\n",
    "cat()\t        Concatenate strings\n",
    "repeat()\t    Repeat values\n",
    "normalize()\t    Return Unicode form of string\n",
    "pad()\t        Add whitespace to left, right, or both sides of strings\n",
    "wrap()\t      Split long strings into lines with length less than a given width\n",
    "join()\t       Join strings in each element of the Series with passed separator\n",
    "get_dummies()\textract dummy variables as a dataframe"
   ]
  },
  {
   "cell_type": "code",
   "execution_count": 5,
   "metadata": {},
   "outputs": [
    {
     "data": {
      "text/plain": [
       "0     Graham\n",
       "1       John\n",
       "2      Terry\n",
       "3       Eric\n",
       "4      Terry\n",
       "5    Michael\n",
       "dtype: object"
      ]
     },
     "execution_count": 5,
     "metadata": {},
     "output_type": "execute_result"
    }
   ],
   "source": [
    "# методы slice(x, y) и .get(x) можно использовать как .str[x:y] и .str[x] соотв.\n",
    "# однако лучше так не делать, т.к. падает читаемость кода\n",
    "\n",
    "monte.str.slice(0, 3)\n",
    "monte.str[0:3]\n",
    "\n",
    "monte.str.get(2)\n",
    "monte.str[2]\n",
    "\n",
    "monte.str.split().str.get(0)\n",
    "#  извлекаем первое имя комбинируя эти методы\n"
   ]
  },
  {
   "cell_type": "code",
   "execution_count": 6,
   "metadata": {},
   "outputs": [
    {
     "data": {
      "text/html": [
       "<div>\n",
       "<style scoped>\n",
       "    .dataframe tbody tr th:only-of-type {\n",
       "        vertical-align: middle;\n",
       "    }\n",
       "\n",
       "    .dataframe tbody tr th {\n",
       "        vertical-align: top;\n",
       "    }\n",
       "\n",
       "    .dataframe thead th {\n",
       "        text-align: right;\n",
       "    }\n",
       "</style>\n",
       "<table border=\"1\" class=\"dataframe\">\n",
       "  <thead>\n",
       "    <tr style=\"text-align: right;\">\n",
       "      <th></th>\n",
       "      <th>A</th>\n",
       "      <th>B</th>\n",
       "      <th>C</th>\n",
       "      <th>D</th>\n",
       "    </tr>\n",
       "  </thead>\n",
       "  <tbody>\n",
       "    <tr>\n",
       "      <th>0</th>\n",
       "      <td>0</td>\n",
       "      <td>1</td>\n",
       "      <td>1</td>\n",
       "      <td>1</td>\n",
       "    </tr>\n",
       "    <tr>\n",
       "      <th>1</th>\n",
       "      <td>0</td>\n",
       "      <td>1</td>\n",
       "      <td>0</td>\n",
       "      <td>1</td>\n",
       "    </tr>\n",
       "    <tr>\n",
       "      <th>2</th>\n",
       "      <td>1</td>\n",
       "      <td>0</td>\n",
       "      <td>1</td>\n",
       "      <td>0</td>\n",
       "    </tr>\n",
       "    <tr>\n",
       "      <th>3</th>\n",
       "      <td>0</td>\n",
       "      <td>1</td>\n",
       "      <td>0</td>\n",
       "      <td>1</td>\n",
       "    </tr>\n",
       "    <tr>\n",
       "      <th>4</th>\n",
       "      <td>0</td>\n",
       "      <td>1</td>\n",
       "      <td>1</td>\n",
       "      <td>0</td>\n",
       "    </tr>\n",
       "    <tr>\n",
       "      <th>5</th>\n",
       "      <td>0</td>\n",
       "      <td>1</td>\n",
       "      <td>1</td>\n",
       "      <td>1</td>\n",
       "    </tr>\n",
       "  </tbody>\n",
       "</table>\n",
       "</div>"
      ],
      "text/plain": [
       "   A  B  C  D\n",
       "0  0  1  1  1\n",
       "1  0  1  0  1\n",
       "2  1  0  1  0\n",
       "3  0  1  0  1\n",
       "4  0  1  1  0\n",
       "5  0  1  1  1"
      ]
     },
     "execution_count": 6,
     "metadata": {},
     "output_type": "execute_result"
    }
   ],
   "source": [
    "full_monte = pd.DataFrame({'name': monte,\n",
    "                           'info': ['B|C|D', 'B|D', 'A|C',\n",
    "                                    'B|D', 'B|C', 'B|C|D']})\n",
    "# B|C|D', 'B|D', 'A|C' и т.д. - условные индикаторы которые могут быть в датасете\n",
    "# например: В - любит лолей, С - любит жёпки и т.д.\n",
    "\n",
    "full_monte\n",
    "full_monte['info'].str.get_dummies(\"|\") # '|' - задание разделителя индикаторов\n",
    "# .get_dummies - позволяет выделить наличие эти индикаторы для \n",
    "# каждого элемента фрейма в новый, отдельный фрейм\n",
    "# подробнее читай в документации pandas"
   ]
  },
  {
   "cell_type": "code",
   "execution_count": 47,
   "metadata": {},
   "outputs": [
    {
     "data": {
      "text/plain": [
       "10526"
      ]
     },
     "execution_count": 47,
     "metadata": {},
     "output_type": "execute_result"
    }
   ],
   "source": [
    "# Пример по работе с векторными операциями и файлами JSON\n",
    "\n",
    "# recipeitems-latest.json - сет кулинарных рецептов (около 200к рецептов)\n",
    "\n",
    "recipes = pd.read_json('Data_folder/recipeitems-latest.json', lines=True)\n",
    "# lines=True - если при попытки чтения json возникает ошибка Trailing data,\n",
    "# котороя означает что файл состоит из СТРОК типа json, однако он сам НЕ json.\n",
    "# Этот аргумент со значением True позволяет прочитать такие легко файлы\n",
    "# без использования цикла для разбития файла на строки, используй этот аргумент!\n",
    "\n",
    "# подстчет кол-ва символов в столбце ingredients\n",
    "recipes.ingredients.str.len().describe()\n",
    "\n",
    "# сколько рецептов для завтрака\n",
    "recipes.description.str.contains('[Bb]reakfast').sum()\n",
    "# [Bb]reakfast - и Breakfast и breakfast, т.к. во фрейме может быть и то и то\n",
    "\n",
    "# сколько рецептов с корицей\n",
    "recipes.ingredients.str.contains('[Cc]innamon').sum()"
   ]
  },
  {
   "cell_type": "code",
   "execution_count": 50,
   "metadata": {},
   "outputs": [
    {
     "data": {
      "text/html": [
       "<div>\n",
       "<style scoped>\n",
       "    .dataframe tbody tr th:only-of-type {\n",
       "        vertical-align: middle;\n",
       "    }\n",
       "\n",
       "    .dataframe tbody tr th {\n",
       "        vertical-align: top;\n",
       "    }\n",
       "\n",
       "    .dataframe thead th {\n",
       "        text-align: right;\n",
       "    }\n",
       "</style>\n",
       "<table border=\"1\" class=\"dataframe\">\n",
       "  <thead>\n",
       "    <tr style=\"text-align: right;\">\n",
       "      <th></th>\n",
       "      <th>salt</th>\n",
       "      <th>pepper</th>\n",
       "      <th>oregano</th>\n",
       "      <th>sage</th>\n",
       "      <th>parsley</th>\n",
       "      <th>rosemary</th>\n",
       "      <th>tarragon</th>\n",
       "      <th>thyme</th>\n",
       "      <th>paprika</th>\n",
       "      <th>cumin</th>\n",
       "    </tr>\n",
       "  </thead>\n",
       "  <tbody>\n",
       "    <tr>\n",
       "      <th>0</th>\n",
       "      <td>False</td>\n",
       "      <td>False</td>\n",
       "      <td>False</td>\n",
       "      <td>True</td>\n",
       "      <td>False</td>\n",
       "      <td>False</td>\n",
       "      <td>False</td>\n",
       "      <td>False</td>\n",
       "      <td>False</td>\n",
       "      <td>False</td>\n",
       "    </tr>\n",
       "    <tr>\n",
       "      <th>1</th>\n",
       "      <td>False</td>\n",
       "      <td>False</td>\n",
       "      <td>False</td>\n",
       "      <td>False</td>\n",
       "      <td>False</td>\n",
       "      <td>False</td>\n",
       "      <td>False</td>\n",
       "      <td>False</td>\n",
       "      <td>False</td>\n",
       "      <td>False</td>\n",
       "    </tr>\n",
       "    <tr>\n",
       "      <th>2</th>\n",
       "      <td>True</td>\n",
       "      <td>True</td>\n",
       "      <td>False</td>\n",
       "      <td>False</td>\n",
       "      <td>False</td>\n",
       "      <td>False</td>\n",
       "      <td>False</td>\n",
       "      <td>False</td>\n",
       "      <td>False</td>\n",
       "      <td>True</td>\n",
       "    </tr>\n",
       "    <tr>\n",
       "      <th>3</th>\n",
       "      <td>False</td>\n",
       "      <td>False</td>\n",
       "      <td>False</td>\n",
       "      <td>False</td>\n",
       "      <td>False</td>\n",
       "      <td>False</td>\n",
       "      <td>False</td>\n",
       "      <td>False</td>\n",
       "      <td>False</td>\n",
       "      <td>False</td>\n",
       "    </tr>\n",
       "    <tr>\n",
       "      <th>4</th>\n",
       "      <td>False</td>\n",
       "      <td>False</td>\n",
       "      <td>False</td>\n",
       "      <td>False</td>\n",
       "      <td>False</td>\n",
       "      <td>False</td>\n",
       "      <td>False</td>\n",
       "      <td>False</td>\n",
       "      <td>False</td>\n",
       "      <td>False</td>\n",
       "    </tr>\n",
       "  </tbody>\n",
       "</table>\n",
       "</div>"
      ],
      "text/plain": [
       "    salt  pepper  oregano   sage  parsley  rosemary  tarragon  thyme  paprika  \\\n",
       "0  False   False    False   True    False     False     False  False    False   \n",
       "1  False   False    False  False    False     False     False  False    False   \n",
       "2   True    True    False  False    False     False     False  False    False   \n",
       "3  False   False    False  False    False     False     False  False    False   \n",
       "4  False   False    False  False    False     False     False  False    False   \n",
       "\n",
       "   cumin  \n",
       "0  False  \n",
       "1  False  \n",
       "2   True  \n",
       "3  False  \n",
       "4  False  "
      ]
     },
     "execution_count": 50,
     "metadata": {},
     "output_type": "execute_result"
    }
   ],
   "source": [
    "# Задача - поиск рецепта со всеми указанными ингридиентами\n",
    "\n",
    "spice_list = ['salt', 'pepper', 'oregano', 'sage', 'parsley',\n",
    "              'rosemary', 'tarragon', 'thyme', 'paprika', 'cumin']\n",
    "\n",
    "import re # модуль для работы с регулярными выражениями\n",
    "\n",
    "# булевый фрейм показывающий есть ли указанные в списке ингридиенты в рецептах\n",
    "spice_df = pd.DataFrame(dict((spice, recipes.ingredients.str.contains(spice,\n",
    "                        re.IGNORECASE)) for spice in spice_list))\n",
    "\n",
    "spice_df.head()"
   ]
  },
  {
   "cell_type": "code",
   "execution_count": 64,
   "metadata": {},
   "outputs": [
    {
     "data": {
      "text/plain": [
       "2069      All cremat with a Little Gem, dandelion and wa...\n",
       "74964                         Lobster with Thermidor butter\n",
       "93768      Burton's Southern Fried Chicken with White Gravy\n",
       "113926                     Mijo's Slow Cooker Shredded Beef\n",
       "137686                     Asparagus Soup with Poached Eggs\n",
       "140530                               Fried Oyster PoвЂ™boys\n",
       "158475                Lamb shank tagine with herb tabbouleh\n",
       "158486                 Southern fried chicken in buttermilk\n",
       "163175            Fried Chicken Sliders with Pickles + Slaw\n",
       "165243                        Bar Tartine Cauliflower Salad\n",
       "Name: name, dtype: object"
      ]
     },
     "execution_count": 64,
     "metadata": {},
     "output_type": "execute_result"
    }
   ],
   "source": [
    "# пусть мы хотим найти рецепт с parsley, paprika, and tarragon\n",
    "\n",
    "# выбор тех строк, в которых есть то что мы вводим в .query()\n",
    "selection = spice_df.query('parsley & paprika & tarragon')\n",
    "\n",
    "# число отобранных рецептов\n",
    "len(selection)\n",
    "\n",
    "# вывод имен рецептов (name-название столбца, обращаемся к нему через точку)\n",
    "# по индексам (selection.index - возращает список индексов) фрейма selection\n",
    "recipes.name[selection.index]"
   ]
  }
 ],
 "metadata": {
  "kernelspec": {
   "display_name": "Python 3",
   "language": "python",
   "name": "python3"
  },
  "language_info": {
   "codemirror_mode": {
    "name": "ipython",
    "version": 3
   },
   "file_extension": ".py",
   "mimetype": "text/x-python",
   "name": "python",
   "nbconvert_exporter": "python",
   "pygments_lexer": "ipython3",
   "version": "3.7.3"
  }
 },
 "nbformat": 4,
 "nbformat_minor": 2
}
