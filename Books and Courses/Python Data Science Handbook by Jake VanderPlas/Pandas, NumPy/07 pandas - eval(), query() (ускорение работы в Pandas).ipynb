{
 "cells": [
  {
   "cell_type": "code",
   "execution_count": 4,
   "metadata": {},
   "outputs": [
    {
     "name": "stdout",
     "output_type": "stream",
     "text": [
      "4.46 ms ± 496 µs per loop (mean ± std. dev. of 7 runs, 100 loops each)\n"
     ]
    }
   ],
   "source": [
    "# eval() и query() - функции ускоряющие работу с pandas (они не создают промежу-\n",
    "# точных объектов, сразу выполняя код в Си)\n",
    "\n",
    "import numpy as np\n",
    "\n",
    "rng = np.random.RandomState(42)\n",
    "x = rng.rand(1000000)\n",
    "y = rng.rand(1000000)\n",
    "%timeit x + y # довольно быстро, и быстрее чем в чистом питоне"
   ]
  },
  {
   "cell_type": "code",
   "execution_count": 5,
   "metadata": {},
   "outputs": [],
   "source": [
    "# однако есть нюанс. Вот эта операция:\n",
    "\n",
    "mask = (x > 0.5) & (y < 0.5)\n",
    "\n",
    "# на самом деле выполняется вот так:\n",
    "\n",
    "tmp1 = (x > 0.5)\n",
    "tmp2 = (y < 0.5)\n",
    "mask = tmp1 & tmp2\n",
    "\n",
    "# т.е. создаются два промежуточных объекта в памяти, что, при больших размерах\n",
    "# массивов х и у может перегрузить и память и процессор"
   ]
  },
  {
   "cell_type": "markdown",
   "metadata": {},
   "source": [
    "# для операций с массивами в numpy используй numexpr"
   ]
  },
  {
   "cell_type": "code",
   "execution_count": 35,
   "metadata": {},
   "outputs": [
    {
     "data": {
      "text/plain": [
       "True"
      ]
     },
     "execution_count": 35,
     "metadata": {},
     "output_type": "execute_result"
    }
   ],
   "source": [
    "# библиотека numexpr решает эту проблему, позволяя выполнять действия поэлементно\n",
    "# и без создания промежуточных объектов\n",
    "# её функции принимают строку аналогичную строке которую мы вводим в обычные\n",
    "# функции numpy\n",
    "\n",
    "import numexpr\n",
    "\n",
    "mask_numexpr = numexpr.evaluate('(x > 0.5) & (y < 0.5)')\n",
    "np.allclose(mask, mask_numexpr)\n",
    "# allclose Returns True if two arrays are element-wise equal within a tolerance\n",
    "# у нас True - массивы равнозначны. Однако расчет mask_numexpr был эффективней"
   ]
  },
  {
   "cell_type": "markdown",
   "metadata": {},
   "source": [
    "# pd.eval() и DataFrame.eval()"
   ]
  },
  {
   "cell_type": "code",
   "execution_count": 37,
   "metadata": {},
   "outputs": [],
   "source": [
    "# pd.eval() and  DataFrame.eval() are conceptually similar, and depend\n",
    "# on the Numexpr package\n",
    "\n",
    "import pandas as pd\n",
    "nrows, ncols = 100000, 100\n",
    "rng = np.random.RandomState(42)\n",
    "df1, df2, df3, df4 = (pd.DataFrame(rng.rand(nrows, ncols)) for i in range(4))\n",
    "\n",
    "# считаем сумму обычным методом pandas\n",
    "%timeit df1 + df2 + df3 + df4"
   ]
  },
  {
   "cell_type": "code",
   "execution_count": 30,
   "metadata": {},
   "outputs": [
    {
     "name": "stdout",
     "output_type": "stream",
     "text": [
      "44.5 ms ± 903 µs per loop (mean ± std. dev. of 7 runs, 10 loops each)\n"
     ]
    }
   ],
   "source": [
    "# считаем сумму через eval()\n",
    "%timeit pd.eval('df1 + df2 + df3 + df4')\n",
    "\n",
    "# получаем результат в ДВА раза быстрее, и БЕЗ дополнительного расхода памяти"
   ]
  },
  {
   "cell_type": "code",
   "execution_count": null,
   "metadata": {},
   "outputs": [
    {
     "data": {
      "text/plain": [
       "True"
      ]
     },
     "execution_count": 31,
     "metadata": {},
     "output_type": "execute_result"
    }
   ],
   "source": [
    "df1, df2, df3, df4, df5 = (pd.DataFrame(rng.randint(0, 1000, (100, 3)))\n",
    "                           for i in range(5))\n",
    "\n",
    "# eval() поддерживает все арифметические операции\n",
    "result1 = -df1 * df2 / (df3 + df4) - df5\n",
    "result2 = pd.eval('-df1 * df2 / (df3 + df4) - df5')\n",
    "np.allclose(result1, result2)\n",
    "\n",
    "# eval() поддерживает все операции сравнения\n",
    "result1 = (df1 < df2) & (df2 <= df3) & (df3 != df4)\n",
    "result2 = pd.eval('df1 < df2 <= df3 != df4')\n",
    "np.allclose(result1, result2)\n",
    "\n",
    "# eval() поддерживает & и | (это вертикальная черта, не деление (деление вот /)\n",
    "# она немного наклоненна из-за того что комментарии пишутся с наклоном)\n",
    "result1 = (df1 < 0.5) & (df2 < 0.5) | (df3 < df4)\n",
    "result2 = pd.eval('(df1 < 0.5) & (df2 < 0.5) | (df3 < df4)')\n",
    "np.allclose(result1, result2)\n",
    "\n",
    "# eval() поддерживает and и or\n",
    "result3 = pd.eval('(df1 < 0.5) and (df2 < 0.5) or (df3 < df4)')\n",
    "np.allclose(result1, result3)\n",
    "\n",
    "# eval() поддерживает доступ к объектам через их атрибуты, используя синтаксис\n",
    "# object.attribute и доступ через индексы, через object[index]\n",
    "result1 = df2.T[0] + df3.iloc[1]\n",
    "result2 = pd.eval('df2.T[0] + df3.iloc[1]')\n",
    "np.allclose(result1, result2)\n",
    "\n",
    "# если нужно что-то помимо этого - читай документацию, т.к. библиотека постоянно\n",
    "# расширяется и то что тебе нужно уже может в ней быть"
   ]
  },
  {
   "cell_type": "code",
   "execution_count": 32,
   "metadata": {},
   "outputs": [
    {
     "name": "stdout",
     "output_type": "stream",
     "text": [
      "True True\n"
     ]
    }
   ],
   "source": [
    "# помимо pd.eval() - функции pandas, у фреймов есть аналогичный метод df.eval()\n",
    "# он (как и df.query, см. далее) по сути вызывает pd.eval().\n",
    "\n",
    "df = pd.DataFrame(rng.rand(1000, 3), columns=['A', 'B', 'C'])\n",
    "df.head()\n",
    "\n",
    "# теперь сложим столбцы и функцией и методом\n",
    "result1 = (df['A'] + df['B']) / (df['C'] - 1)     # чистый питон\n",
    "result2 = pd.eval(\"(df.A + df.B) / (df.C - 1)\")   # eval() функция pandas\n",
    "result3 = df.eval('(A + B) / (C - 1)')            # eval() метод фрейма\n",
    "print(np.allclose(result1, result2), np.allclose(result2, result3))\n",
    "\n",
    "# результат один, однако методом пользоваться удобнее - пишем меньше кода\n",
    "# т.к. мы можем обращаться к столбцам через их имя напрямую - А, в то время как\n",
    "# при использовании eval() функции pandas через массив+имя - df.A"
   ]
  },
  {
   "cell_type": "code",
   "execution_count": 40,
   "metadata": {},
   "outputs": [
    {
     "data": {
      "text/plain": [
       "True"
      ]
     },
     "execution_count": 40,
     "metadata": {},
     "output_type": "execute_result"
    }
   ],
   "source": [
    "# df.eval() может создавать новые столбцы фрейма\n",
    "df.eval('D = (A + B) / C', inplace=True)\n",
    "df.head()\n",
    "\n",
    "# и модифицировать существующие столбцы\n",
    "df.eval('D = (A - B) / C', inplace=True)\n",
    "df.head()\n",
    "\n",
    "# также df.eval() может принимать локальные переменные через знак @\n",
    "column_mean = df.mean(1)\n",
    "result1 = df['A'] + column_mean       # чистый питон\n",
    "result2 = df.eval('A + @column_mean') # df.eval()\n",
    "np.allclose(result1, result2)\n",
    "# @ - означает ЛОКАЛЬНУЮ переменную, а не ИМЯ СТОЛБЦА\n",
    "# это знак работает ТОЛЬКО в df.eval(), т.к. pd.eval() имеет доступ только к\n",
    "# месту имен питона, и может обращаться к локальным переменным напрямую\n",
    "# (а df.eval() \"привязан\" к месту имен фрейма, и для выхода за его пределы\n",
    "# мы и используем @)"
   ]
  },
  {
   "cell_type": "markdown",
   "metadata": {},
   "source": [
    "# DataFrame.query()"
   ]
  },
  {
   "cell_type": "code",
   "execution_count": 48,
   "metadata": {},
   "outputs": [
    {
     "name": "stdout",
     "output_type": "stream",
     "text": [
      "True True\n"
     ]
    },
    {
     "data": {
      "text/plain": [
       "True"
      ]
     },
     "execution_count": 48,
     "metadata": {},
     "output_type": "execute_result"
    }
   ],
   "source": [
    "# однако метод df.eval() не способен на подобную \"фильтрацию\":\n",
    "result1 = df[(df.A < 0.5) & (df.B < 0.5)]\n",
    "result2 = pd.eval('df[(df.A < 0.5) & (df.B < 0.5)]')\n",
    "np.allclose(result1, result2)\n",
    "\n",
    "# на неё способен pd.eval() и df.query()\n",
    "result3 = df.query('A < 0.5 and B < 0.5')\n",
    "print(np.allclose(result1, result2), np.allclose(result2, result3))\n",
    "\n",
    "# метод df.query() тоже может работать с глобальными переменными через @\n",
    "Cmean = df['C'].mean()\n",
    "result1 = df[(df.A < Cmean) & (df.B < Cmean)]\n",
    "result2 = df.query('A < @Cmean and B < @Cmean')\n",
    "np.allclose(result1, result2)"
   ]
  },
  {
   "cell_type": "markdown",
   "metadata": {},
   "source": [
    "# Мораль\n",
    "\n",
    "Используй df.eval() и df.query() всегда, для всех расчетов. Для больших массивов данных это будет быстрее (хотя, для работы с маленькими массивами чистый питон, как ни странно, будет чуточку быстрее) и самое главное - эффективнее по части расхода памяти.\n",
    "\n",
    "Использование этих методов - отличная привычка, т.к. они помогут избежать проблем с большими массивами на реальной работе\n",
    "\n",
    "df.eval()  - для расчетов\n",
    "\n",
    "df.query() - для фильрации и выбора данных\n",
    "\n",
    "По особенностям их работы и применения - читай документацию и StackOverflow"
   ]
  }
 ],
 "metadata": {
  "kernelspec": {
   "display_name": "Python 3",
   "language": "python",
   "name": "python3"
  },
  "language_info": {
   "codemirror_mode": {
    "name": "ipython",
    "version": 3
   },
   "file_extension": ".py",
   "mimetype": "text/x-python",
   "name": "python",
   "nbconvert_exporter": "python",
   "pygments_lexer": "ipython3",
   "version": "3.7.5"
  },
  "toc": {
   "base_numbering": 1,
   "nav_menu": {},
   "number_sections": true,
   "sideBar": true,
   "skip_h1_title": false,
   "title_cell": "Table of Contents",
   "title_sidebar": "Contents",
   "toc_cell": false,
   "toc_position": {},
   "toc_section_display": true,
   "toc_window_display": false
  }
 },
 "nbformat": 4,
 "nbformat_minor": 2
}
