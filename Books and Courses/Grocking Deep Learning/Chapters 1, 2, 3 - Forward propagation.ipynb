{
 "cells": [
  {
   "cell_type": "code",
   "execution_count": 1,
   "metadata": {},
   "outputs": [],
   "source": [
    "# setup imports\n",
    "import numpy as np"
   ]
  },
  {
   "cell_type": "markdown",
   "metadata": {},
   "source": [
    "# Chapter 3 Forward propagation\n",
    "(Chapters 1 & 2 - introduction)\n",
    "\n",
    "## NN with single input and output"
   ]
  },
  {
   "cell_type": "code",
   "execution_count": 2,
   "metadata": {},
   "outputs": [
    {
     "data": {
      "text/plain": [
       "array([0.85, 0.95, 1.  , 0.9 ])"
      ]
     },
     "execution_count": 2,
     "metadata": {},
     "output_type": "execute_result"
    }
   ],
   "source": [
    "# нейронная сеть дающая предсказание на основании одной фичи, по сути\n",
    "# это один нейрон с одним входом и выходом, и без функции активации\n",
    "def neural_network1(input_data, weight):\n",
    "    prediction = input_data * weight\n",
    "    return prediction\n",
    "\n",
    "number_of_toes = np.array([8.5, 9.5, 10.0, 9.0])\n",
    "weight = 0.1\n",
    "\n",
    "neural_network1(number_of_toes, weight)"
   ]
  },
  {
   "cell_type": "markdown",
   "metadata": {},
   "source": [
    "## NN with muiltiple inputs and single output"
   ]
  },
  {
   "cell_type": "code",
   "execution_count": 3,
   "metadata": {},
   "outputs": [
    {
     "data": {
      "text/plain": [
       "1.34"
      ]
     },
     "execution_count": 3,
     "metadata": {},
     "output_type": "execute_result"
    }
   ],
   "source": [
    "# function for calculating the weighted sum of the inputs\n",
    "def weighted_sum(a, b):\n",
    "    assert(len(a) == len(b))  # assert поднимает флаг ошибки если выражение даёт FALSE. Это используется для отлавливания багов в \"потенциально опасных местах\"\n",
    "    output = 0\n",
    "    for i in range(len(a)):  # домножаем все соответствующие элементы двух списков друг на друга\n",
    "        output += (a[i] * b[i])  # и складываем их, получая итоговое значение используемое как инпут\n",
    "    return output\n",
    "\n",
    "\n",
    "# нейронная сеть дающая предсказание на основании нескольких фич\n",
    "def neural_network2(input_data, weights):\n",
    "    pred = weighted_sum(input_data, weights)  # домножили все фичи на соотв-ие веса, сложили и получили инпут\n",
    "\n",
    "    # можно рассчитать взвешенную сумму через метод .dot() библиотеки NumPy\n",
    "    #input_data = np.array(input_data)\n",
    "    #pred = input_data.dot(weights)\n",
    "    \n",
    "    return pred\n",
    "\n",
    "weights = [0.1, 0.2, 0.3]\n",
    "feature_1 = [8.5, 8.4, 7.3]\n",
    "feature_2 = [0.65, 0.8, 0.9]\n",
    "feature_3 = [1.2, 0.7, 1.0]\n",
    "\n",
    "# предсказание для объекта из первого столбца (у него три фичи)\n",
    "single_data_input_0 = [feature_1[0], feature_2[0], feature_3[0]]\n",
    "neural_network2(single_data_input_0, weights)"
   ]
  },
  {
   "cell_type": "markdown",
   "metadata": {},
   "source": [
    "###### Задачки на алгоритмы: написать четыре функции"
   ]
  },
  {
   "cell_type": "code",
   "execution_count": 4,
   "metadata": {},
   "outputs": [
    {
     "name": "stdout",
     "output_type": "stream",
     "text": [
      "[5.525 6.72  6.57 ]\n",
      "[9.15 9.2  8.2 ]\n",
      "24.2\n",
      "8.066666666666666\n"
     ]
    }
   ],
   "source": [
    "# функция для почленного умножения двух векторов\n",
    "def elementwise_multiplication(a, b):\n",
    "    assert(len(a) == len(b))\n",
    "    a = np.array(a); b = np.array(b)\n",
    "    return (a * b)\n",
    "\n",
    "# функция для почленного сложения двух векторов\n",
    "def elementwise_addition(a, b):\n",
    "    assert(len(a) == len(b))\n",
    "    a = np.array(a); b = np.array(b)\n",
    "    return (a + b)\n",
    "\n",
    "# функция для вычисления суммы элементов вектора\n",
    "def vector_sum(a):\n",
    "    result = 0\n",
    "    for i in range(len(a)):\n",
    "        result += a[i]\n",
    "    return result\n",
    "\n",
    "# функция для вычисления среднего арифметического значений вектора\n",
    "def vector_average(a):\n",
    "    sum = 0\n",
    "    for i in range(len(a)):\n",
    "        sum += a[i]    \n",
    "    result = sum / len(a)\n",
    "    return result\n",
    "\n",
    "print(elementwise_multiplication(feature_1, feature_2))\n",
    "print(elementwise_addition(feature_1, feature_2))\n",
    "print(vector_sum(feature_1))\n",
    "print(vector_average(feature_1))"
   ]
  },
  {
   "cell_type": "markdown",
   "metadata": {},
   "source": [
    "## Dot product (weighted sum)\n",
    "Dot product (weighted sum) gives us a notion of familarity between two vectors.\n",
    "\n",
    "When NN gives a prediction it basically gives a high score of the inputs based on how similar they are to the weights. Т.е. веса определяют на сколько сильно стоит принимать во внимание конкретную фичу при расчёте предсказания.\n",
    "\n",
    "В NumPy есть метод .dot() выполняющий расчёт weighted sum, так что самому писать функцию подсчёта weighted sum не обязательно.\n",
    "\n",
    "## NN with multiple outputs\n",
    "\n",
    "ПОЧЕМУ result[i] = (number * vector[i]) НЕ ПРИСВАЕВАЕТ НОВОЕ ЗНАЧЕНИЕ ЕСЛИ RESULT ЯВЛЯЕТСЯ ОБЪЕКТОМ NUMPY?"
   ]
  },
  {
   "cell_type": "code",
   "execution_count": 5,
   "metadata": {},
   "outputs": [
    {
     "name": "stdout",
     "output_type": "stream",
     "text": [
      "[0.195, 0.13, 0.5850000000000001]\n"
     ]
    }
   ],
   "source": [
    "# функция возвращающая вектор покомпонентно домноженый на соотв-ие числа (веса)\n",
    "# т.е. выполняющая elemental multiplication\n",
    "def ele_mul(number, vector):\n",
    "    result = [0, 0, 0]\n",
    "    assert(len(result) == len(vector))\n",
    "    for i in range(len(vector)):\n",
    "        result[i] = number * vector[i]     \n",
    "    return result\n",
    "\n",
    "def neural_network3(input, weights):\n",
    "    pred = ele_mul(input, weights)\n",
    "    return pred\n",
    "\n",
    "weights = np.array([0.3, 0.2, 0.9])\n",
    "result_of_the_NN_calculation = np.array([0.65, 0.8, 0.8, 0.9])\n",
    "input = result_of_the_NN_calculation[0]\n",
    "print(neural_network3(input, weights))"
   ]
  },
  {
   "cell_type": "markdown",
   "metadata": {},
   "source": [
    "## NN with multiple inputs & outputs"
   ]
  },
  {
   "cell_type": "code",
   "execution_count": 94,
   "metadata": {},
   "outputs": [
    {
     "name": "stdout",
     "output_type": "stream",
     "text": [
      "[0.555, 0.9800000000000001, 0.9650000000000001]\n",
      "[0.555, 0.9800000000000001, 0.9650000000000001]\n"
     ]
    }
   ],
   "source": [
    "def weighted_sum(a, b):\n",
    "    output = 0\n",
    "    for i in range(len(a)):  # перемножаем все соответствующие элементы двух списков друг на друга\n",
    "        output += (a[i] * b[i])  # и складываем их, получая итоговое значение используемое далее как input\n",
    "    return output\n",
    "\n",
    "# функция умножающая матрицу на вектор и возвращающая вектор(список)\n",
    "def vect_matrix_multiply(vector, matrix):\n",
    "    output = [0, 0, 0]\n",
    "    for i in range(len(vector)):\n",
    "        output[i] = weighted_sum(vector, matrix[i])\n",
    "    return output\n",
    "\n",
    "def neural_network4(input, weights):\n",
    "    pred = vect_matrix_multiply(input, weights)\n",
    "    return pred\n",
    "\n",
    "\n",
    "#           f_1  f_2  f_3\n",
    "weights = [[0.1, 0.1, -0.3],  # prediction 1\n",
    "           [0.1, 0.2, 0.0],  # preditction 2\n",
    "           [0.0, 1.3, 0.1]]  # prediction 3\n",
    "\n",
    "feature_1 = 8.5\n",
    "feature_2 = 0.65\n",
    "feature_3 = 1.2\n",
    "input = [feature_1, feature_2, feature_3]\n",
    "\n",
    "print(neural_network4(input, weights))\n",
    "\n",
    "\n",
    "# переписанная мной в виде одной функции нейронка свыше\n",
    "def MY_neural_network1(input, weights):\n",
    "    prediction = [0, 0, 0]\n",
    "    for pred_number in range(len(input)):  # проход по предсказаниям, считаем одно за раз  \n",
    "        for weight_number in range(len(weights[0])):  # для каждого предсказания смотрим элементы одной строки матрицы весов\n",
    "            prediction[pred_number] += input[weight_number] * weights[pred_number][weight_number]  # каждое предсказание\n",
    "            # это сумма всех приходящих на точку фичей, каждая из которых умножена на соответствующий вес\n",
    "    return prediction\n",
    "    \n",
    "print(MY_neural_network1(input, weights))"
   ]
  },
  {
   "cell_type": "markdown",
   "metadata": {},
   "source": [
    "## NN with hidden layer"
   ]
  },
  {
   "cell_type": "code",
   "execution_count": 118,
   "metadata": {},
   "outputs": [
    {
     "name": "stdout",
     "output_type": "stream",
     "text": [
      "hid_MY =  [0.555, 0.9800000000000001, 0.9650000000000001]\n",
      "Pred_MY =  [0.6105000000000002, 0.29400000000000004, 1.3510000000000002] \n",
      "\n",
      "hid_NP =  [0.555 0.98  0.965]\n",
      "Pred_NP =  [0.955  0.2515 1.3705]\n"
     ]
    }
   ],
   "source": [
    "def MY_neural_network2(input, weights):\n",
    "    hidden_layer = [0, 0, 0]\n",
    "    predictions = [0, 0, 0]\n",
    "    layer = 0\n",
    "    \n",
    "    # расчёт значений нейронов скрытого слоя\n",
    "    for neuron_number in range(len(input)):  \n",
    "        for weight_number in range(len(weights[layer][neuron_number])):\n",
    "            hidden_layer[neuron_number] += input[weight_number] * weights[layer][neuron_number][weight_number]\n",
    "    layer += 1 # счётчик слоёв для выбора набора весов соответствующих нужному слою\n",
    "    print('hid_MY = ', hidden_layer)\n",
    "    \n",
    "    # расчёт предсказаний (то же самое что и выше, но вместо исходных значений фичей мы берём в качестве\n",
    "    # инпута рассчитаные выше значения нейронов скрытого слоя)\n",
    "    for pred_number in range(len(hidden_layer)):\n",
    "        for weight_number in range(len(weights[layer][pred_number])):\n",
    "           predictions[pred_number] += hidden_layer[pred_number] * weights[layer][pred_number][weight_number]\n",
    "\n",
    "    # да, это можно реализовать через тройной цикл. Но такое написание наглядней и понятней.\n",
    "    return predictions\n",
    "\n",
    "\n",
    "#              f_1  f_2  f_3\n",
    "weights_1 = [[0.1, 0.1, -0.3],  # prediction 1\n",
    "             [0.1, 0.2, 0.0],  # preditction 2\n",
    "             [0.0, 1.3, 0.1]]  # hidden 3\n",
    "\n",
    "#           hid_1 hid_2  hid_3\n",
    "weights_2 = [[0.3, 1.1, -0.3],  # prediction 1\n",
    "             [0.1, 0.2, 0.0],  # preditction 2\n",
    "             [0.0, 1.3, 0.1]]  # prediction 3\n",
    "\n",
    "weights = [weights_1, weights_2]\n",
    "feature_1 = 8.5\n",
    "feature_2 = 0.65\n",
    "feature_3 = 1.2\n",
    "input = [feature_1, feature_2, feature_3]    \n",
    "print('Pred_MY = ', MY_neural_network2(input, weights), '\\n')\n",
    "\n",
    "\n",
    "\n",
    "# NumPy имеет встроенную функцию считающую взвешенную сумму - .dot()\n",
    "# вот как выглядит сеть со скрытым слоев написанная с использованием NumPy:\n",
    "\n",
    "#              f_1  f_2  f_3\n",
    "weights_1 = np.array([[0.1, 0.1, -0.3],  # hidden 1\n",
    "                      [0.1, 0.2, 0.0],  # hidden 2\n",
    "                      [0.0, 1.3, 0.1]])  # hidden 3\n",
    "\n",
    "#           hid_1 hid_2  hid_3\n",
    "weights_2 = np.array([[0.3, 1.1, -0.3],  # prediction 1\n",
    "                      [0.1, 0.2, 0.0],  # preditction 2\n",
    "                      [0.0, 1.3, 0.1]])  # prediction 3\n",
    "\n",
    "weights = np.array([weights_1, weights_2])\n",
    "feature_1 = 8.5\n",
    "feature_2 = 0.65\n",
    "feature_3 = 1.2\n",
    "input = np.array([feature_1, feature_2, feature_3])\n",
    "\n",
    "def NumPy_neural_network1(input, weights):\n",
    "    hidden = np.dot(weights[0], input)\n",
    "    print('hid_NP = ', hidden)\n",
    "    predictions = np.dot(weights[1], hidden)\n",
    "    return predictions\n",
    "\n",
    "print('Pred_NP = ', NumPy_neural_network1(input, weights))\n",
    "\n",
    "# Я хз почему значения при расчёте через NumPy отличаются. Мб из-за округления?"
   ]
  }
 ],
 "metadata": {
  "kernelspec": {
   "display_name": "Python 3",
   "language": "python",
   "name": "python3"
  },
  "language_info": {
   "codemirror_mode": {
    "name": "ipython",
    "version": 3
   },
   "file_extension": ".py",
   "mimetype": "text/x-python",
   "name": "python",
   "nbconvert_exporter": "python",
   "pygments_lexer": "ipython3",
   "version": "3.7.5"
  },
  "toc": {
   "base_numbering": 1,
   "nav_menu": {},
   "number_sections": true,
   "sideBar": true,
   "skip_h1_title": false,
   "title_cell": "Table of Contents",
   "title_sidebar": "Contents",
   "toc_cell": false,
   "toc_position": {},
   "toc_section_display": true,
   "toc_window_display": false
  }
 },
 "nbformat": 4,
 "nbformat_minor": 2
}
